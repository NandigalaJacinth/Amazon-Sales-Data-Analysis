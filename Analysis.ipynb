{
 "cells": [
  {
   "cell_type": "markdown",
   "metadata": {},
   "source": [
    "## UNIFIED MENTOR Internship\n",
    "\n",
    "##### Submitted by: NANDIGALA JACINTH RUEL KNOX"
   ]
  },
  {
   "cell_type": "markdown",
   "metadata": {},
   "source": [
    "#### Project Title: Analyzing Amazon Sales Data\n",
    "#### Technologies: Data Science\n",
    "#### Domain: E-Commerce\n",
    "#### Project Difficulties Level: Advanced"
   ]
  },
  {
   "cell_type": "markdown",
   "metadata": {},
   "source": [
    "## Problem Statement\n",
    "\n",
    "##### Sales management has gained importance to meet increasing competition and the need for improved methods of distribution to reduce cost and to increase profits. Salesmanagement today is the most important function in a commercial and business enterprise. \n",
    "##### Do ETL : Extract-Transform-Load some Amazon dataset and find Sales-trend -> month wise , year wise , yearly_month wise. \n",
    "##### Find key metrics and factors and show the meaningful relationships between attributes."
   ]
  },
  {
   "cell_type": "markdown",
   "metadata": {},
   "source": [
    "## DATA COLLECTION"
   ]
  },
  {
   "cell_type": "code",
   "execution_count": null,
   "metadata": {},
   "outputs": [],
   "source": []
  }
 ],
 "metadata": {
  "kernelspec": {
   "display_name": "Python 3",
   "language": "python",
   "name": "python3"
  },
  "language_info": {
   "codemirror_mode": {
    "name": "ipython",
    "version": 3
   },
   "file_extension": ".py",
   "mimetype": "text/x-python",
   "name": "python",
   "nbconvert_exporter": "python",
   "pygments_lexer": "ipython3",
   "version": "3.10.7"
  }
 },
 "nbformat": 4,
 "nbformat_minor": 2
}
